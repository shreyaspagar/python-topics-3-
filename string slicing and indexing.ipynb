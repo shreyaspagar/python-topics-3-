{
 "cells": [
  {
   "cell_type": "code",
   "execution_count": 1,
   "id": "11d68568-463e-43c3-b04c-353c65f19e61",
   "metadata": {},
   "outputs": [
    {
     "data": {
      "text/plain": [
       "'p'"
      ]
     },
     "execution_count": 1,
     "metadata": {},
     "output_type": "execute_result"
    }
   ],
   "source": [
    "s = \"pwskiils\"\n",
    "s[0]"
   ]
  },
  {
   "cell_type": "code",
   "execution_count": 2,
   "id": "6f5dc7f3-6731-4581-84ae-b6782374ab51",
   "metadata": {},
   "outputs": [
    {
     "data": {
      "text/plain": [
       "'s'"
      ]
     },
     "execution_count": 2,
     "metadata": {},
     "output_type": "execute_result"
    }
   ],
   "source": [
    "s[7]"
   ]
  },
  {
   "cell_type": "code",
   "execution_count": 3,
   "id": "adab083a-be2e-4843-91a6-c0ba08a8cc95",
   "metadata": {},
   "outputs": [
    {
     "ename": "IndexError",
     "evalue": "string index out of range",
     "output_type": "error",
     "traceback": [
      "\u001b[0;31m---------------------------------------------------------------------------\u001b[0m",
      "\u001b[0;31mIndexError\u001b[0m                                Traceback (most recent call last)",
      "Cell \u001b[0;32mIn[3], line 1\u001b[0m\n\u001b[0;32m----> 1\u001b[0m \u001b[43ms\u001b[49m\u001b[43m[\u001b[49m\u001b[38;5;241;43m100\u001b[39;49m\u001b[43m]\u001b[49m\n",
      "\u001b[0;31mIndexError\u001b[0m: string index out of range"
     ]
    }
   ],
   "source": [
    "s[100]"
   ]
  },
  {
   "cell_type": "code",
   "execution_count": 4,
   "id": "7d3ac68a-21ad-408b-8443-fb58b2240ce6",
   "metadata": {},
   "outputs": [
    {
     "data": {
      "text/plain": [
       "'s'"
      ]
     },
     "execution_count": 4,
     "metadata": {},
     "output_type": "execute_result"
    }
   ],
   "source": [
    "s[-1]"
   ]
  },
  {
   "cell_type": "code",
   "execution_count": 5,
   "id": "86c06aa9-9396-45eb-8649-36b20f899aed",
   "metadata": {},
   "outputs": [
    {
     "data": {
      "text/plain": [
       "'k'"
      ]
     },
     "execution_count": 5,
     "metadata": {},
     "output_type": "execute_result"
    }
   ],
   "source": [
    "s[-5]"
   ]
  },
  {
   "cell_type": "code",
   "execution_count": 6,
   "id": "7eed2633-6065-4c7b-831d-5571d27c6de2",
   "metadata": {},
   "outputs": [
    {
     "ename": "IndexError",
     "evalue": "string index out of range",
     "output_type": "error",
     "traceback": [
      "\u001b[0;31m---------------------------------------------------------------------------\u001b[0m",
      "\u001b[0;31mIndexError\u001b[0m                                Traceback (most recent call last)",
      "Cell \u001b[0;32mIn[6], line 1\u001b[0m\n\u001b[0;32m----> 1\u001b[0m \u001b[43ms\u001b[49m\u001b[43m[\u001b[49m\u001b[38;5;241;43m-\u001b[39;49m\u001b[38;5;241;43m20\u001b[39;49m\u001b[43m]\u001b[49m\n",
      "\u001b[0;31mIndexError\u001b[0m: string index out of range"
     ]
    }
   ],
   "source": [
    "s[-20]"
   ]
  },
  {
   "cell_type": "code",
   "execution_count": 7,
   "id": "092cb0f6-9967-450e-8149-c2228601da8a",
   "metadata": {},
   "outputs": [
    {
     "data": {
      "text/plain": [
       "'pwskiils'"
      ]
     },
     "execution_count": 7,
     "metadata": {},
     "output_type": "execute_result"
    }
   ],
   "source": [
    "s"
   ]
  },
  {
   "cell_type": "code",
   "execution_count": 8,
   "id": "6b4a4fad-01ed-40e5-8150-1e471e3db9f4",
   "metadata": {},
   "outputs": [
    {
     "data": {
      "text/plain": [
       "'pws'"
      ]
     },
     "execution_count": 8,
     "metadata": {},
     "output_type": "execute_result"
    }
   ],
   "source": [
    "s[0:3]\n",
    " \n",
    " \n",
    " "
   ]
  },
  {
   "cell_type": "code",
   "execution_count": 9,
   "id": "b90560ea-4ebb-4869-9a98-bc1335b16c91",
   "metadata": {},
   "outputs": [
    {
     "data": {
      "text/plain": [
       "'kiil'"
      ]
     },
     "execution_count": 9,
     "metadata": {},
     "output_type": "execute_result"
    }
   ],
   "source": [
    "s[3:7]"
   ]
  },
  {
   "cell_type": "code",
   "execution_count": 10,
   "id": "82c7a1a8-b855-4f9b-8e1d-4a231b9bda1c",
   "metadata": {},
   "outputs": [
    {
     "data": {
      "text/plain": [
       "'psil'"
      ]
     },
     "execution_count": 10,
     "metadata": {},
     "output_type": "execute_result"
    }
   ],
   "source": [
    "s[0:7:2]"
   ]
  },
  {
   "cell_type": "code",
   "execution_count": 11,
   "id": "7e477605-3fe5-4507-8298-10b9d9270d98",
   "metadata": {},
   "outputs": [
    {
     "data": {
      "text/plain": [
       "'kiil'"
      ]
     },
     "execution_count": 11,
     "metadata": {},
     "output_type": "execute_result"
    }
   ],
   "source": [
    "s[3:7:1]"
   ]
  },
  {
   "cell_type": "code",
   "execution_count": 12,
   "id": "69856cdc-e9a3-42a7-b7d7-1b11a59a1b34",
   "metadata": {},
   "outputs": [
    {
     "data": {
      "text/plain": [
       "'psil'"
      ]
     },
     "execution_count": 12,
     "metadata": {},
     "output_type": "execute_result"
    }
   ],
   "source": [
    "s[0:100:2]"
   ]
  },
  {
   "cell_type": "code",
   "execution_count": 13,
   "id": "a1ba0c37-6f29-4d65-aa87-6c2cf15e98c1",
   "metadata": {},
   "outputs": [
    {
     "data": {
      "text/plain": [
       "''"
      ]
     },
     "execution_count": 13,
     "metadata": {},
     "output_type": "execute_result"
    }
   ],
   "source": [
    "s[0:7:-1]"
   ]
  },
  {
   "cell_type": "code",
   "execution_count": 14,
   "id": "e5e42d94-b735-4c15-9039-30959ed6a8a6",
   "metadata": {},
   "outputs": [
    {
     "data": {
      "text/plain": [
       "'liiks'"
      ]
     },
     "execution_count": 14,
     "metadata": {},
     "output_type": "execute_result"
    }
   ],
   "source": [
    "s[6:1:-1]"
   ]
  },
  {
   "cell_type": "code",
   "execution_count": 15,
   "id": "e8e05566-67c3-46cd-86ab-c93e638e1c66",
   "metadata": {},
   "outputs": [
    {
     "data": {
      "text/plain": [
       "'sliiksw'"
      ]
     },
     "execution_count": 15,
     "metadata": {},
     "output_type": "execute_result"
    }
   ],
   "source": [
    "s[7:0:-1]"
   ]
  },
  {
   "cell_type": "code",
   "execution_count": 16,
   "id": "d6b2fcb2-89cb-4c9a-b075-f78ada21ecd7",
   "metadata": {},
   "outputs": [
    {
     "data": {
      "text/plain": [
       "'sliikswp'"
      ]
     },
     "execution_count": 16,
     "metadata": {},
     "output_type": "execute_result"
    }
   ],
   "source": [
    "s[7::-1]"
   ]
  },
  {
   "cell_type": "code",
   "execution_count": 18,
   "id": "b0f84a7b-65d0-498d-8b15-74ba67df8f72",
   "metadata": {},
   "outputs": [
    {
     "data": {
      "text/plain": [
       "'sliikswp'"
      ]
     },
     "execution_count": 18,
     "metadata": {},
     "output_type": "execute_result"
    }
   ],
   "source": [
    "s[7::-1]"
   ]
  },
  {
   "cell_type": "code",
   "execution_count": 19,
   "id": "30fe848d-9077-43c5-9c7d-d0227e896f08",
   "metadata": {},
   "outputs": [
    {
     "data": {
      "text/plain": [
       "'sliikswp'"
      ]
     },
     "execution_count": 19,
     "metadata": {},
     "output_type": "execute_result"
    }
   ],
   "source": [
    "s[::-1]"
   ]
  },
  {
   "cell_type": "code",
   "execution_count": null,
   "id": "c2eb500a-102b-4f6e-895f-8a9edfad4091",
   "metadata": {},
   "outputs": [],
   "source": []
  }
 ],
 "metadata": {
  "kernelspec": {
   "display_name": "Python 3 (ipykernel)",
   "language": "python",
   "name": "python3"
  },
  "language_info": {
   "codemirror_mode": {
    "name": "ipython",
    "version": 3
   },
   "file_extension": ".py",
   "mimetype": "text/x-python",
   "name": "python",
   "nbconvert_exporter": "python",
   "pygments_lexer": "ipython3",
   "version": "3.10.8"
  }
 },
 "nbformat": 4,
 "nbformat_minor": 5
}
